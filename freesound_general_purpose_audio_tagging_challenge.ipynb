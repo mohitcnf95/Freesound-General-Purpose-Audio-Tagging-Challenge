{
 "cells": [
  {
   "cell_type": "markdown",
   "metadata": {
    "id": "WDBpnW_Nyl_l"
   },
   "source": [
    "# Freesound General-Purpose Audio Tagging Challenge"
   ]
  },
  {
   "cell_type": "code",
   "execution_count": 1,
   "metadata": {
    "colab": {
     "base_uri": "https://localhost:8080/"
    },
    "executionInfo": {
     "elapsed": 12821,
     "status": "ok",
     "timestamp": 1669121215430,
     "user": {
      "displayName": "Mohit Kumar",
      "userId": "03888987891614882912"
     },
     "user_tz": -330
    },
    "id": "pP6UYJT9zXKi",
    "outputId": "64c668c0-4615-4669-8780-e7aa6c8976d4"
   },
   "outputs": [
    {
     "name": "stdout",
     "output_type": "stream",
     "text": [
      "Looking in indexes: https://pypi.org/simple, https://us-python.pkg.dev/colab-wheels/public/simple/\n",
      "Requirement already satisfied: jovian in /usr/local/lib/python3.7/dist-packages (0.2.45)\n",
      "Requirement already satisfied: uuid in /usr/local/lib/python3.7/dist-packages (from jovian) (1.30)\n",
      "Requirement already satisfied: requests in /usr/local/lib/python3.7/dist-packages (from jovian) (2.23.0)\n",
      "Requirement already satisfied: pyyaml in /usr/local/lib/python3.7/dist-packages (from jovian) (6.0)\n",
      "Requirement already satisfied: click in /usr/local/lib/python3.7/dist-packages (from jovian) (7.1.2)\n",
      "Requirement already satisfied: idna<3,>=2.5 in /usr/local/lib/python3.7/dist-packages (from requests->jovian) (2.10)\n",
      "Requirement already satisfied: urllib3!=1.25.0,!=1.25.1,<1.26,>=1.21.1 in /usr/local/lib/python3.7/dist-packages (from requests->jovian) (1.24.3)\n",
      "Requirement already satisfied: certifi>=2017.4.17 in /usr/local/lib/python3.7/dist-packages (from requests->jovian) (2022.9.24)\n",
      "Requirement already satisfied: chardet<4,>=3.0.2 in /usr/local/lib/python3.7/dist-packages (from requests->jovian) (3.0.4)\n"
     ]
    }
   ],
   "source": [
    "!pip install jovian --upgrade\n",
    "!pip install librosa --quiet\n",
    "!pip install opendatasets --upgrade --quiet"
   ]
  },
  {
   "cell_type": "code",
   "execution_count": 2,
   "metadata": {
    "executionInfo": {
     "elapsed": 3058,
     "status": "ok",
     "timestamp": 1669121218454,
     "user": {
      "displayName": "Mohit Kumar",
      "userId": "03888987891614882912"
     },
     "user_tz": -330
    },
    "id": "q7h8xQcZ8aJ1"
   },
   "outputs": [],
   "source": [
    "!pip install ipython --quiet\n",
    "import IPython.display as ipd"
   ]
  },
  {
   "cell_type": "code",
   "execution_count": 3,
   "metadata": {
    "executionInfo": {
     "elapsed": 41,
     "status": "ok",
     "timestamp": 1669121218455,
     "user": {
      "displayName": "Mohit Kumar",
      "userId": "03888987891614882912"
     },
     "user_tz": -330
    },
    "id": "N-9ZsZ_Ez3OH"
   },
   "outputs": [],
   "source": [
    "import jovian"
   ]
  },
  {
   "cell_type": "code",
   "execution_count": 4,
   "metadata": {
    "colab": {
     "base_uri": "https://localhost:8080/"
    },
    "executionInfo": {
     "elapsed": 39,
     "status": "ok",
     "timestamp": 1669121218457,
     "user": {
      "displayName": "Mohit Kumar",
      "userId": "03888987891614882912"
     },
     "user_tz": -330
    },
    "id": "x_Tjpihlz7sA",
    "outputId": "2b960b37-ce07-4fa7-d829-1c20e57c1f7e"
   },
   "outputs": [
    {
     "name": "stdout",
     "output_type": "stream",
     "text": [
      "[jovian] Detected Colab notebook...\u001b[0m\n",
      "[jovian] jovian.commit() is no longer required on Google Colab. If you ran this notebook from Jovian, \n",
      "then just save this file in Colab using Ctrl+S/Cmd+S and it will be updated on Jovian. \n",
      "Also, you can also delete this cell, it's no longer necessary.\u001b[0m\n"
     ]
    }
   ],
   "source": [
    "# Execute this to save new versions of the notebook\n",
    "jovian.commit(project=\"freesound-general-purpose-audio-tagging-challenge\")"
   ]
  },
  {
   "cell_type": "markdown",
   "metadata": {
    "id": "McjGeNF_-Tci"
   },
   "source": [
    "### Importing the Libraries"
   ]
  },
  {
   "cell_type": "code",
   "execution_count": 5,
   "metadata": {
    "executionInfo": {
     "elapsed": 6668,
     "status": "ok",
     "timestamp": 1669121225112,
     "user": {
      "displayName": "Mohit Kumar",
      "userId": "03888987891614882912"
     },
     "user_tz": -330
    },
    "id": "hbXH8lDp0Gly"
   },
   "outputs": [],
   "source": [
    "import opendatasets as od\n",
    "import pandas as pd\n",
    "import matplotlib.pyplot as plt\n",
    "import tensorflow as tf\n",
    "from tensorflow.keras.models import Sequential"
   ]
  },
  {
   "cell_type": "code",
   "execution_count": 6,
   "metadata": {
    "executionInfo": {
     "elapsed": 48,
     "status": "ok",
     "timestamp": 1669121225115,
     "user": {
      "displayName": "Mohit Kumar",
      "userId": "03888987891614882912"
     },
     "user_tz": -330
    },
    "id": "vB7g-SPm0pDx"
   },
   "outputs": [],
   "source": [
    "%matplotlib inline"
   ]
  },
  {
   "cell_type": "code",
   "execution_count": 7,
   "metadata": {
    "colab": {
     "base_uri": "https://localhost:8080/"
    },
    "executionInfo": {
     "elapsed": 45,
     "status": "ok",
     "timestamp": 1669121225116,
     "user": {
      "displayName": "Mohit Kumar",
      "userId": "03888987891614882912"
     },
     "user_tz": -330
    },
    "id": "cyV0pcfx6WFy",
    "outputId": "d08fd991-d7d2-4cd3-f5d6-40698829bbd3"
   },
   "outputs": [
    {
     "name": "stdout",
     "output_type": "stream",
     "text": [
      "2.9.2\n"
     ]
    }
   ],
   "source": [
    "print(tf.__version__)"
   ]
  },
  {
   "cell_type": "markdown",
   "metadata": {
    "id": "6ugCfwK3-GsS"
   },
   "source": [
    "## Loading the Data"
   ]
  },
  {
   "cell_type": "code",
   "execution_count": 8,
   "metadata": {
    "executionInfo": {
     "elapsed": 42,
     "status": "ok",
     "timestamp": 1669121225118,
     "user": {
      "displayName": "Mohit Kumar",
      "userId": "03888987891614882912"
     },
     "user_tz": -330
    },
    "id": "xvTLX4tP6gI4"
   },
   "outputs": [],
   "source": [
    "dataset_url = 'https://www.kaggle.com/c/freesound-audio-tagging'"
   ]
  },
  {
   "cell_type": "code",
   "execution_count": 9,
   "metadata": {
    "colab": {
     "base_uri": "https://localhost:8080/"
    },
    "executionInfo": {
     "elapsed": 43,
     "status": "ok",
     "timestamp": 1669121225120,
     "user": {
      "displayName": "Mohit Kumar",
      "userId": "03888987891614882912"
     },
     "user_tz": -330
    },
    "id": "p43InIcV60g5",
    "outputId": "a440bdbc-7983-4afc-c92a-35311710a6ad"
   },
   "outputs": [
    {
     "name": "stdout",
     "output_type": "stream",
     "text": [
      "Skipping, found downloaded files in \"./freesound-audio-tagging\" (use force=True to force download)\n"
     ]
    }
   ],
   "source": [
    "od.download(dataset_url)"
   ]
  },
  {
   "cell_type": "markdown",
   "metadata": {
    "id": "l1Pn4VbE-K9r"
   },
   "source": [
    "## Audio Classification EDA"
   ]
  },
  {
   "cell_type": "code",
   "execution_count": 10,
   "metadata": {
    "executionInfo": {
     "elapsed": 37,
     "status": "ok",
     "timestamp": 1669121225122,
     "user": {
      "displayName": "Mohit Kumar",
      "userId": "03888987891614882912"
     },
     "user_tz": -330
    },
    "id": "rFlwAr2D61Wh"
   },
   "outputs": [],
   "source": [
    "filename = '/content/freesound-audio-tagging/audio_test/00063640.wav'"
   ]
  },
  {
   "cell_type": "code",
   "execution_count": 11,
   "metadata": {
    "executionInfo": {
     "elapsed": 1964,
     "status": "ok",
     "timestamp": 1669121227051,
     "user": {
      "displayName": "Mohit Kumar",
      "userId": "03888987891614882912"
     },
     "user_tz": -330
    },
    "id": "DjDlf6Ds9f6w"
   },
   "outputs": [],
   "source": [
    "import librosa.display"
   ]
  },
  {
   "cell_type": "code",
   "execution_count": 12,
   "metadata": {
    "colab": {
     "base_uri": "https://localhost:8080/",
     "height": 393
    },
    "executionInfo": {
     "elapsed": 2121,
     "status": "ok",
     "timestamp": 1669121229162,
     "user": {
      "displayName": "Mohit Kumar",
      "userId": "03888987891614882912"
     },
     "user_tz": -330
    },
    "id": "qbKXcYRC71cF",
    "outputId": "9051bcfa-a3f3-4d44-debd-72f73821eaf0"
   },
   "outputs": [
    {
     "data": {
      "text/html": [
       "\n",
       "                <audio  controls=\"controls\" >\n",
       "                    <source src=\"data:audio/x-wav;base64,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\" type=\"audio/x-wav\" />\n",
       "                    Your browser does not support the audio element.\n",
       "                </audio>\n",
       "              "
      ],
      "text/plain": [
       "<IPython.lib.display.Audio object>"
      ]
     },
     "execution_count": 12,
     "metadata": {},
     "output_type": "execute_result"
    },
    {
     "data": {
      "image/png": "[encoded data removed]",
      "text/plain": [
       "<Figure size 1008x360 with 1 Axes>"
      ]
     },
     "metadata": {
      "needs_background": "light"
     },
     "output_type": "display_data"
    }
   ],
   "source": [
    "plt.figure(figsize=(14,5))\n",
    "data, sample_rate = librosa.load(filename)\n",
    "librosa.display.waveplot(data, sr= sample_rate)\n",
    "ipd.Audio(filename)"
   ]
  },
  {
   "cell_type": "code",
   "execution_count": 13,
   "metadata": {
    "colab": {
     "base_uri": "https://localhost:8080/"
    },
    "executionInfo": {
     "elapsed": 80,
     "status": "ok",
     "timestamp": 1669121229167,
     "user": {
      "displayName": "Mohit Kumar",
      "userId": "03888987891614882912"
     },
     "user_tz": -330
    },
    "id": "9FDHGxqO-dw2",
    "outputId": "60394dbd-0451-481d-9601-d0a6e1c992bf"
   },
   "outputs": [
    {
     "data": {
      "text/plain": [
       "22050"
      ]
     },
     "execution_count": 13,
     "metadata": {},
     "output_type": "execute_result"
    }
   ],
   "source": [
    "sample_rate"
   ]
  },
  {
   "cell_type": "code",
   "execution_count": 14,
   "metadata": {
    "colab": {
     "base_uri": "https://localhost:8080/"
    },
    "executionInfo": {
     "elapsed": 76,
     "status": "ok",
     "timestamp": 1669121229169,
     "user": {
      "displayName": "Mohit Kumar",
      "userId": "03888987891614882912"
     },
     "user_tz": -330
    },
    "id": "ce3svx6792se",
    "outputId": "f398507b-6961-4caa-e441-f84b9e67504c"
   },
   "outputs": [
    {
     "data": {
      "text/plain": [
       "array([-3.0723128e-05, -2.6443044e-05, -4.6179444e-05, ...,\n",
       "       -5.7769110e-05,  1.9109632e-06, -2.7519841e-06], dtype=float32)"
      ]
     },
     "execution_count": 14,
     "metadata": {},
     "output_type": "execute_result"
    }
   ],
   "source": [
    "data"
   ]
  },
  {
   "cell_type": "code",
   "execution_count": 15,
   "metadata": {
    "executionInfo": {
     "elapsed": 69,
     "status": "ok",
     "timestamp": 1669121229171,
     "user": {
      "displayName": "Mohit Kumar",
      "userId": "03888987891614882912"
     },
     "user_tz": -330
    },
    "id": "t4x1tbz6_Ggi"
   },
   "outputs": [],
   "source": [
    "metadata = pd.read_csv('/content/freesound-audio-tagging/train.csv')"
   ]
  },
  {
   "cell_type": "code",
   "execution_count": 16,
   "metadata": {
    "colab": {
     "base_uri": "https://localhost:8080/",
     "height": 206
    },
    "executionInfo": {
     "elapsed": 69,
     "status": "ok",
     "timestamp": 1669121229172,
     "user": {
      "displayName": "Mohit Kumar",
      "userId": "03888987891614882912"
     },
     "user_tz": -330
    },
    "id": "bshnlfii_grc",
    "outputId": "6f5b9993-b073-4580-ce4a-6e44fe4a836e"
   },
   "outputs": [
    {
     "data": {
      "text/html": [
       "\n",
       "  <div id=\"df-311e95e6-1b68-407d-b98d-5dfc2a6daab5\">\n",
       "    <div class=\"colab-df-container\">\n",
       "      <div>\n",
       "<style scoped>\n",
       "    .dataframe tbody tr th:only-of-type {\n",
       "        vertical-align: middle;\n",
       "    }\n",
       "\n",
       "    .dataframe tbody tr th {\n",
       "        vertical-align: top;\n",
       "    }\n",
       "\n",
       "    .dataframe thead th {\n",
       "        text-align: right;\n",
       "    }\n",
       "</style>\n",
       "<table border=\"1\" class=\"dataframe\">\n",
       "  <thead>\n",
       "    <tr style=\"text-align: right;\">\n",
       "      <th></th>\n",
       "      <th>fname</th>\n",
       "      <th>label</th>\n",
       "      <th>manually_verified</th>\n",
       "    </tr>\n",
       "  </thead>\n",
       "  <tbody>\n",
       "    <tr>\n",
       "      <th>0</th>\n",
       "      <td>00044347.wav</td>\n",
       "      <td>Hi-hat</td>\n",
       "      <td>0</td>\n",
       "    </tr>\n",
       "    <tr>\n",
       "      <th>1</th>\n",
       "      <td>001ca53d.wav</td>\n",
       "      <td>Saxophone</td>\n",
       "      <td>1</td>\n",
       "    </tr>\n",
       "    <tr>\n",
       "      <th>2</th>\n",
       "      <td>002d256b.wav</td>\n",
       "      <td>Trumpet</td>\n",
       "      <td>0</td>\n",
       "    </tr>\n",
       "    <tr>\n",
       "      <th>3</th>\n",
       "      <td>0033e230.wav</td>\n",
       "      <td>Glockenspiel</td>\n",
       "      <td>1</td>\n",
       "    </tr>\n",
       "    <tr>\n",
       "      <th>4</th>\n",
       "      <td>00353774.wav</td>\n",
       "      <td>Cello</td>\n",
       "      <td>1</td>\n",
       "    </tr>\n",
       "  </tbody>\n",
       "</table>\n",
       "</div>\n",
       "      <button class=\"colab-df-convert\" onclick=\"convertToInteractive('df-311e95e6-1b68-407d-b98d-5dfc2a6daab5')\"\n",
       "              title=\"Convert this dataframe to an interactive table.\"\n",
       "              style=\"display:none;\">\n",
       "        \n",
       "  <svg xmlns=\"http://www.w3.org/2000/svg\" height=\"24px\"viewBox=\"0 0 24 24\"\n",
       "       width=\"24px\">\n",
       "    <path d=\"M0 0h24v24H0V0z\" fill=\"none\"/>\n",
       "    <path d=\"M18.56 5.44l.94 2.06.94-2.06 2.06-.94-2.06-.94-.94-2.06-.94 2.06-2.06.94zm-11 1L8.5 8.5l.94-2.06 2.06-.94-2.06-.94L8.5 2.5l-.94 2.06-2.06.94zm10 10l.94 2.06.94-2.06 2.06-.94-2.06-.94-.94-2.06-.94 2.06-2.06.94z\"/><path d=\"M17.41 7.96l-1.37-1.37c-.4-.4-.92-.59-1.43-.59-.52 0-1.04.2-1.43.59L10.3 9.45l-7.72 7.72c-.78.78-.78 2.05 0 2.83L4 21.41c.39.39.9.59 1.41.59.51 0 1.02-.2 1.41-.59l7.78-7.78 2.81-2.81c.8-.78.8-2.07 0-2.86zM5.41 20L4 18.59l7.72-7.72 1.47 1.35L5.41 20z\"/>\n",
       "  </svg>\n",
       "      </button>\n",
       "      \n",
       "  <style>\n",
       "    .colab-df-container {\n",
       "      display:flex;\n",
       "      flex-wrap:wrap;\n",
       "      gap: 12px;\n",
       "    }\n",
       "\n",
       "    .colab-df-convert {\n",
       "      background-color: #E8F0FE;\n",
       "      border: none;\n",
       "      border-radius: 50%;\n",
       "      cursor: pointer;\n",
       "      display: none;\n",
       "      fill: #1967D2;\n",
       "      height: 32px;\n",
       "      padding: 0 0 0 0;\n",
       "      width: 32px;\n",
       "    }\n",
       "\n",
       "    .colab-df-convert:hover {\n",
       "      background-color: #E2EBFA;\n",
       "      box-shadow: 0px 1px 2px rgba(60, 64, 67, 0.3), 0px 1px 3px 1px rgba(60, 64, 67, 0.15);\n",
       "      fill: #174EA6;\n",
       "    }\n",
       "\n",
       "    [theme=dark] .colab-df-convert {\n",
       "      background-color: #3B4455;\n",
       "      fill: #D2E3FC;\n",
       "    }\n",
       "\n",
       "    [theme=dark] .colab-df-convert:hover {\n",
       "      background-color: #434B5C;\n",
       "      box-shadow: 0px 1px 3px 1px rgba(0, 0, 0, 0.15);\n",
       "      filter: drop-shadow(0px 1px 2px rgba(0, 0, 0, 0.3));\n",
       "      fill: #FFFFFF;\n",
       "    }\n",
       "  </style>\n",
       "\n",
       "      <script>\n",
       "        const buttonEl =\n",
       "          document.querySelector('#df-311e95e6-1b68-407d-b98d-5dfc2a6daab5 button.colab-df-convert');\n",
       "        buttonEl.style.display =\n",
       "          google.colab.kernel.accessAllowed ? 'block' : 'none';\n",
       "\n",
       "        async function convertToInteractive(key) {\n",
       "          const element = document.querySelector('#df-311e95e6-1b68-407d-b98d-5dfc2a6daab5');\n",
       "          const dataTable =\n",
       "            await google.colab.kernel.invokeFunction('convertToInteractive',\n",
       "                                                     [key], {});\n",
       "          if (!dataTable) return;\n",
       "\n",
       "          const docLinkHtml = 'Like what you see? Visit the ' +\n",
       "            '<a target=\"_blank\" href=https://colab.research.google.com/notebooks/data_table.ipynb>data table notebook</a>'\n",
       "            + ' to learn more about interactive tables.';\n",
       "          element.innerHTML = '';\n",
       "          dataTable['output_type'] = 'display_data';\n",
       "          await google.colab.output.renderOutput(dataTable, element);\n",
       "          const docLink = document.createElement('div');\n",
       "          docLink.innerHTML = docLinkHtml;\n",
       "          element.appendChild(docLink);\n",
       "        }\n",
       "      </script>\n",
       "    </div>\n",
       "  </div>\n",
       "  "
      ],
      "text/plain": [
       "          fname         label  manually_verified\n",
       "0  00044347.wav        Hi-hat                  0\n",
       "1  001ca53d.wav     Saxophone                  1\n",
       "2  002d256b.wav       Trumpet                  0\n",
       "3  0033e230.wav  Glockenspiel                  1\n",
       "4  00353774.wav         Cello                  1"
      ]
     },
     "execution_count": 16,
     "metadata": {},
     "output_type": "execute_result"
    }
   ],
   "source": [
    "metadata.head()"
   ]
  },
  {
   "cell_type": "code",
   "execution_count": 17,
   "metadata": {
    "colab": {
     "base_uri": "https://localhost:8080/"
    },
    "executionInfo": {
     "elapsed": 68,
     "status": "ok",
     "timestamp": 1669121229173,
     "user": {
      "displayName": "Mohit Kumar",
      "userId": "03888987891614882912"
     },
     "user_tz": -330
    },
    "id": "XqaPIMwK_jCS",
    "outputId": "ad80b507-ecf2-4078-b0b9-545d718c544b"
   },
   "outputs": [
    {
     "data": {
      "text/plain": [
       "Hi-hat                   300\n",
       "Laughter                 300\n",
       "Shatter                  300\n",
       "Applause                 300\n",
       "Squeak                   300\n",
       "Acoustic_guitar          300\n",
       "Bass_drum                300\n",
       "Saxophone                300\n",
       "Flute                    300\n",
       "Double_bass              300\n",
       "Tearing                  300\n",
       "Fart                     300\n",
       "Clarinet                 300\n",
       "Fireworks                300\n",
       "Trumpet                  300\n",
       "Violin_or_fiddle         300\n",
       "Cello                    300\n",
       "Snare_drum               300\n",
       "Oboe                     299\n",
       "Gong                     292\n",
       "Knock                    279\n",
       "Writing                  270\n",
       "Cough                    243\n",
       "Bark                     239\n",
       "Tambourine               221\n",
       "Burping_or_eructation    210\n",
       "Cowbell                  191\n",
       "Harmonica                165\n",
       "Drawer_open_or_close     158\n",
       "Meow                     155\n",
       "Electric_piano           150\n",
       "Gunshot_or_gunfire       147\n",
       "Microwave_oven           146\n",
       "Keys_jangling            139\n",
       "Telephone                120\n",
       "Computer_keyboard        119\n",
       "Finger_snapping          117\n",
       "Chime                    115\n",
       "Bus                      109\n",
       "Scissors                  95\n",
       "Glockenspiel              94\n",
       "Name: label, dtype: int64"
      ]
     },
     "execution_count": 17,
     "metadata": {},
     "output_type": "execute_result"
    }
   ],
   "source": [
    "### Check whether data is imbalance\n",
    "metadata['label'].value_counts()"
   ]
  },
  {
   "cell_type": "code",
   "execution_count": 18,
   "metadata": {
    "executionInfo": {
     "elapsed": 64,
     "status": "ok",
     "timestamp": 1669121229175,
     "user": {
      "displayName": "Mohit Kumar",
      "userId": "03888987891614882912"
     },
     "user_tz": -330
    },
    "id": "IHhgP2vj3G4H"
   },
   "outputs": [],
   "source": [
    "import os\n",
    "audio_dataset_path = '/content/freesound-audio-tagging/audio_train'"
   ]
  },
  {
   "cell_type": "code",
   "execution_count": 19,
   "metadata": {
    "colab": {
     "base_uri": "https://localhost:8080/"
    },
    "executionInfo": {
     "elapsed": 64,
     "status": "ok",
     "timestamp": 1669121229177,
     "user": {
      "displayName": "Mohit Kumar",
      "userId": "03888987891614882912"
     },
     "user_tz": -330
    },
    "id": "Zu7EVd79_2gK",
    "outputId": "59472c39-2a2b-4b73-f215-b01be503d503"
   },
   "outputs": [
    {
     "name": "stdout",
     "output_type": "stream",
     "text": [
      "[jovian] Detected Colab notebook...\u001b[0m\n",
      "[jovian] jovian.commit() is no longer required on Google Colab. If you ran this notebook from Jovian, \n",
      "then just save this file in Colab using Ctrl+S/Cmd+S and it will be updated on Jovian. \n",
      "Also, you can also delete this cell, it's no longer necessary.\u001b[0m\n"
     ]
    }
   ],
   "source": [
    "jovian.commit()"
   ]
  },
  {
   "cell_type": "markdown",
   "metadata": {
    "id": "l5Z7s_c7vTfw"
   },
   "source": [
    "### Extract Features"
   ]
  },
  {
   "cell_type": "markdown",
   "metadata": {
    "id": "ssS45_HAvW-Z"
   },
   "source": [
    "We will be using Mel-Frequency Cepstral Coefficients (MFCC) from the audio samples.\n",
    "The MFCC function processes the entire speech data in a batch. Based on the number of input rows, the window length, and the overlap length, mfcc partitions the speech into 1551 frames and computes the cepstral features for each frame.\n",
    "These audio representations will allow us to identify features for classification"
   ]
  },
  {
   "cell_type": "code",
   "execution_count": 20,
   "metadata": {
    "colab": {
     "base_uri": "https://localhost:8080/"
    },
    "executionInfo": {
     "elapsed": 59,
     "status": "ok",
     "timestamp": 1669121229180,
     "user": {
      "displayName": "Mohit Kumar",
      "userId": "03888987891614882912"
     },
     "user_tz": -330
    },
    "id": "fDqzdd80ATeQ",
    "outputId": "4c9c28de-6ba4-47ee-8c7e-2c41de7d3268"
   },
   "outputs": [
    {
     "name": "stdout",
     "output_type": "stream",
     "text": [
      "(40, 69)\n"
     ]
    }
   ],
   "source": [
    "mfcc = librosa.feature.mfcc(y=data, sr=sample_rate, n_mfcc =40)\n",
    "print(mfcc.shape)"
   ]
  },
  {
   "cell_type": "code",
   "execution_count": 21,
   "metadata": {
    "colab": {
     "base_uri": "https://localhost:8080/"
    },
    "executionInfo": {
     "elapsed": 55,
     "status": "ok",
     "timestamp": 1669121229182,
     "user": {
      "displayName": "Mohit Kumar",
      "userId": "03888987891614882912"
     },
     "user_tz": -330
    },
    "id": "ykpAaafR0Wmm",
    "outputId": "ca5220b4-b4bd-4da5-f99f-ef686d78d486"
   },
   "outputs": [
    {
     "data": {
      "text/plain": [
       "array([[-1.86636887e+02, -1.13980354e+02, -1.16509644e+02, ...,\n",
       "        -8.46345886e+02, -8.46602844e+02, -8.51656250e+02],\n",
       "       [-1.42856712e+01,  1.90730553e+01,  3.95901566e+01, ...,\n",
       "         1.64430928e+00,  1.65897036e+00,  5.22479594e-01],\n",
       "       [-7.53735046e+01, -2.85114517e+01,  3.26209855e+00, ...,\n",
       "         2.35644484e+00,  4.49744433e-01,  2.85588717e+00],\n",
       "       ...,\n",
       "       [ 7.73802567e+00,  3.38861489e+00,  7.60310531e-01, ...,\n",
       "        -4.01352215e+00,  6.10087156e-01,  4.53234959e+00],\n",
       "       [-9.85304451e+00, -1.09907494e+01, -1.18413696e+01, ...,\n",
       "        -4.11719561e+00,  1.55436087e+00,  4.51397991e+00],\n",
       "       [ 7.05399609e+00,  4.19617355e-01, -3.46465540e+00, ...,\n",
       "         7.01356983e+00,  6.25587940e+00,  4.28914976e+00]], dtype=float32)"
      ]
     },
     "execution_count": 21,
     "metadata": {},
     "output_type": "execute_result"
    }
   ],
   "source": [
    "mfcc"
   ]
  },
  {
   "cell_type": "markdown",
   "metadata": {
    "id": "SgN-uGyS0yhA"
   },
   "source": [
    "Extracting MFCC for every audio file"
   ]
  },
  {
   "cell_type": "code",
   "execution_count": 22,
   "metadata": {
    "executionInfo": {
     "elapsed": 48,
     "status": "ok",
     "timestamp": 1669121229184,
     "user": {
      "displayName": "Mohit Kumar",
      "userId": "03888987891614882912"
     },
     "user_tz": -330
    },
    "id": "NrwnZFcd0tnN"
   },
   "outputs": [],
   "source": [
    "def features_extracter(file):\n",
    "  audio, sample_rate = librosa.load(file_name, res_type = 'kaiser_fast')\n",
    "  mfcc_features = librosa.feature.mfcc(y= audio, sr=sample_rate, n_mfcc =40)\n",
    "  mfcc_scaled_features = np.mean(mfcc_features.T, axis=0)\n",
    "\n",
    "  return mfcc_scaled_features\n"
   ]
  },
  {
   "cell_type": "markdown",
   "metadata": {
    "id": "9e5hItLa2C9u"
   },
   "source": [
    "Import relevant libraries"
   ]
  },
  {
   "cell_type": "code",
   "execution_count": 23,
   "metadata": {
    "executionInfo": {
     "elapsed": 49,
     "status": "ok",
     "timestamp": 1669121229185,
     "user": {
      "displayName": "Mohit Kumar",
      "userId": "03888987891614882912"
     },
     "user_tz": -330
    },
    "id": "NpgeiR1r103Z"
   },
   "outputs": [],
   "source": [
    "import numpy as np\n",
    "from tqdm import tqdm"
   ]
  },
  {
   "cell_type": "code",
   "execution_count": 24,
   "metadata": {
    "colab": {
     "base_uri": "https://localhost:8080/"
    },
    "executionInfo": {
     "elapsed": 1331987,
     "status": "ok",
     "timestamp": 1669122561124,
     "user": {
      "displayName": "Mohit Kumar",
      "userId": "03888987891614882912"
     },
     "user_tz": -330
    },
    "id": "ZNBjRreH2BL9",
    "outputId": "eb20144e-e0d3-4a9f-bd12-a3dff1e5a79e"
   },
   "outputs": [
    {
     "name": "stderr",
     "output_type": "stream",
     "text": [
      "9473it [22:12,  7.11it/s]\n"
     ]
    }
   ],
   "source": [
    "# Now we iterate through every audio filoe and extract features\n",
    "# using Mel-Frequency Cepstral Coefficients\n",
    "\n",
    "extracted_features = []\n",
    "\n",
    "for index_num, row, in tqdm(metadata.iterrows()):\n",
    "  file_name = os.path.join(os.path.abspath(audio_dataset_path), str(row['fname']))\n",
    "  final_class_label = row[\"label\"]\n",
    "  data = features_extracter(file_name)\n",
    "  extracted_features.append([data, final_class_label])"
   ]
  },
  {
   "cell_type": "code",
   "execution_count": 25,
   "metadata": {
    "colab": {
     "base_uri": "https://localhost:8080/",
     "height": 206
    },
    "executionInfo": {
     "elapsed": 23,
     "status": "ok",
     "timestamp": 1669122561126,
     "user": {
      "displayName": "Mohit Kumar",
      "userId": "03888987891614882912"
     },
     "user_tz": -330
    },
    "id": "CNklppZC4__i",
    "outputId": "85dd19d7-f8b9-4310-d67b-5a4430847547"
   },
   "outputs": [
    {
     "data": {
      "text/html": [
       "\n",
       "  <div id=\"df-4beacb26-46f1-4e35-a7b9-75282c3991e8\">\n",
       "    <div class=\"colab-df-container\">\n",
       "      <div>\n",
       "<style scoped>\n",
       "    .dataframe tbody tr th:only-of-type {\n",
       "        vertical-align: middle;\n",
       "    }\n",
       "\n",
       "    .dataframe tbody tr th {\n",
       "        vertical-align: top;\n",
       "    }\n",
       "\n",
       "    .dataframe thead th {\n",
       "        text-align: right;\n",
       "    }\n",
       "</style>\n",
       "<table border=\"1\" class=\"dataframe\">\n",
       "  <thead>\n",
       "    <tr style=\"text-align: right;\">\n",
       "      <th></th>\n",
       "      <th>feature</th>\n",
       "      <th>class</th>\n",
       "    </tr>\n",
       "  </thead>\n",
       "  <tbody>\n",
       "    <tr>\n",
       "      <th>0</th>\n",
       "      <td>[-427.2885, 18.066782, -50.51572, 5.025327, -2...</td>\n",
       "      <td>Hi-hat</td>\n",
       "    </tr>\n",
       "    <tr>\n",
       "      <th>1</th>\n",
       "      <td>[-337.82224, 89.799255, -61.725796, 14.596454,...</td>\n",
       "      <td>Saxophone</td>\n",
       "    </tr>\n",
       "    <tr>\n",
       "      <th>2</th>\n",
       "      <td>[-623.46454, 104.49299, 2.6089153, 7.3437967, ...</td>\n",
       "      <td>Trumpet</td>\n",
       "    </tr>\n",
       "    <tr>\n",
       "      <th>3</th>\n",
       "      <td>[-764.4792, 8.640426, -6.3671145, -15.080152, ...</td>\n",
       "      <td>Glockenspiel</td>\n",
       "    </tr>\n",
       "    <tr>\n",
       "      <th>4</th>\n",
       "      <td>[-316.50906, 93.676926, -28.949974, 23.692709,...</td>\n",
       "      <td>Cello</td>\n",
       "    </tr>\n",
       "  </tbody>\n",
       "</table>\n",
       "</div>\n",
       "      <button class=\"colab-df-convert\" onclick=\"convertToInteractive('df-4beacb26-46f1-4e35-a7b9-75282c3991e8')\"\n",
       "              title=\"Convert this dataframe to an interactive table.\"\n",
       "              style=\"display:none;\">\n",
       "        \n",
       "  <svg xmlns=\"http://www.w3.org/2000/svg\" height=\"24px\"viewBox=\"0 0 24 24\"\n",
       "       width=\"24px\">\n",
       "    <path d=\"M0 0h24v24H0V0z\" fill=\"none\"/>\n",
       "    <path d=\"M18.56 5.44l.94 2.06.94-2.06 2.06-.94-2.06-.94-.94-2.06-.94 2.06-2.06.94zm-11 1L8.5 8.5l.94-2.06 2.06-.94-2.06-.94L8.5 2.5l-.94 2.06-2.06.94zm10 10l.94 2.06.94-2.06 2.06-.94-2.06-.94-.94-2.06-.94 2.06-2.06.94z\"/><path d=\"M17.41 7.96l-1.37-1.37c-.4-.4-.92-.59-1.43-.59-.52 0-1.04.2-1.43.59L10.3 9.45l-7.72 7.72c-.78.78-.78 2.05 0 2.83L4 21.41c.39.39.9.59 1.41.59.51 0 1.02-.2 1.41-.59l7.78-7.78 2.81-2.81c.8-.78.8-2.07 0-2.86zM5.41 20L4 18.59l7.72-7.72 1.47 1.35L5.41 20z\"/>\n",
       "  </svg>\n",
       "      </button>\n",
       "      \n",
       "  <style>\n",
       "    .colab-df-container {\n",
       "      display:flex;\n",
       "      flex-wrap:wrap;\n",
       "      gap: 12px;\n",
       "    }\n",
       "\n",
       "    .colab-df-convert {\n",
       "      background-color: #E8F0FE;\n",
       "      border: none;\n",
       "      border-radius: 50%;\n",
       "      cursor: pointer;\n",
       "      display: none;\n",
       "      fill: #1967D2;\n",
       "      height: 32px;\n",
       "      padding: 0 0 0 0;\n",
       "      width: 32px;\n",
       "    }\n",
       "\n",
       "    .colab-df-convert:hover {\n",
       "      background-color: #E2EBFA;\n",
       "      box-shadow: 0px 1px 2px rgba(60, 64, 67, 0.3), 0px 1px 3px 1px rgba(60, 64, 67, 0.15);\n",
       "      fill: #174EA6;\n",
       "    }\n",
       "\n",
       "    [theme=dark] .colab-df-convert {\n",
       "      background-color: #3B4455;\n",
       "      fill: #D2E3FC;\n",
       "    }\n",
       "\n",
       "    [theme=dark] .colab-df-convert:hover {\n",
       "      background-color: #434B5C;\n",
       "      box-shadow: 0px 1px 3px 1px rgba(0, 0, 0, 0.15);\n",
       "      filter: drop-shadow(0px 1px 2px rgba(0, 0, 0, 0.3));\n",
       "      fill: #FFFFFF;\n",
       "    }\n",
       "  </style>\n",
       "\n",
       "      <script>\n",
       "        const buttonEl =\n",
       "          document.querySelector('#df-4beacb26-46f1-4e35-a7b9-75282c3991e8 button.colab-df-convert');\n",
       "        buttonEl.style.display =\n",
       "          google.colab.kernel.accessAllowed ? 'block' : 'none';\n",
       "\n",
       "        async function convertToInteractive(key) {\n",
       "          const element = document.querySelector('#df-4beacb26-46f1-4e35-a7b9-75282c3991e8');\n",
       "          const dataTable =\n",
       "            await google.colab.kernel.invokeFunction('convertToInteractive',\n",
       "                                                     [key], {});\n",
       "          if (!dataTable) return;\n",
       "\n",
       "          const docLinkHtml = 'Like what you see? Visit the ' +\n",
       "            '<a target=\"_blank\" href=https://colab.research.google.com/notebooks/data_table.ipynb>data table notebook</a>'\n",
       "            + ' to learn more about interactive tables.';\n",
       "          element.innerHTML = '';\n",
       "          dataTable['output_type'] = 'display_data';\n",
       "          await google.colab.output.renderOutput(dataTable, element);\n",
       "          const docLink = document.createElement('div');\n",
       "          docLink.innerHTML = docLinkHtml;\n",
       "          element.appendChild(docLink);\n",
       "        }\n",
       "      </script>\n",
       "    </div>\n",
       "  </div>\n",
       "  "
      ],
      "text/plain": [
       "                                             feature         class\n",
       "0  [-427.2885, 18.066782, -50.51572, 5.025327, -2...        Hi-hat\n",
       "1  [-337.82224, 89.799255, -61.725796, 14.596454,...     Saxophone\n",
       "2  [-623.46454, 104.49299, 2.6089153, 7.3437967, ...       Trumpet\n",
       "3  [-764.4792, 8.640426, -6.3671145, -15.080152, ...  Glockenspiel\n",
       "4  [-316.50906, 93.676926, -28.949974, 23.692709,...         Cello"
      ]
     },
     "execution_count": 25,
     "metadata": {},
     "output_type": "execute_result"
    }
   ],
   "source": [
    "# Converting extracted_features to Pnadas Dataframe\n",
    "\n",
    "extracted_features_df = pd.DataFrame(extracted_features, columns=['feature', 'class'])\n",
    "extracted_features_df.head()"
   ]
  },
  {
   "cell_type": "code",
   "execution_count": 66,
   "metadata": {
    "executionInfo": {
     "elapsed": 381,
     "status": "ok",
     "timestamp": 1669126491845,
     "user": {
      "displayName": "Mohit Kumar",
      "userId": "03888987891614882912"
     },
     "user_tz": -330
    },
    "id": "CkKDfe29_On4"
   },
   "outputs": [],
   "source": [
    "# Splitting the dataset into independent and dependent datset\n",
    "\n",
    "X = np.array(extracted_features_df['feature'].tolist())\n",
    "y = np.array(extracted_features_df['class'].tolist())"
   ]
  },
  {
   "cell_type": "code",
   "execution_count": 67,
   "metadata": {
    "colab": {
     "base_uri": "https://localhost:8080/"
    },
    "executionInfo": {
     "elapsed": 4,
     "status": "ok",
     "timestamp": 1669126493742,
     "user": {
      "displayName": "Mohit Kumar",
      "userId": "03888987891614882912"
     },
     "user_tz": -330
    },
    "id": "a9Pq4c70ChLu",
    "outputId": "acdc65e9-0892-4999-922a-d0d0f9649d86"
   },
   "outputs": [
    {
     "data": {
      "text/plain": [
       "(9473, 40)"
      ]
     },
     "execution_count": 67,
     "metadata": {},
     "output_type": "execute_result"
    }
   ],
   "source": [
    "X.shape"
   ]
  },
  {
   "cell_type": "code",
   "execution_count": 68,
   "metadata": {
    "colab": {
     "base_uri": "https://localhost:8080/"
    },
    "executionInfo": {
     "elapsed": 478,
     "status": "ok",
     "timestamp": 1669126496256,
     "user": {
      "displayName": "Mohit Kumar",
      "userId": "03888987891614882912"
     },
     "user_tz": -330
    },
    "id": "TrBubJXICkg-",
    "outputId": "1bb377d9-5948-494d-ed5b-f1e7294ee5ce"
   },
   "outputs": [
    {
     "data": {
      "text/plain": [
       "(9473,)"
      ]
     },
     "execution_count": 68,
     "metadata": {},
     "output_type": "execute_result"
    }
   ],
   "source": [
    "y.shape"
   ]
  },
  {
   "cell_type": "markdown",
   "metadata": {
    "id": "HDXU29UrDRDc"
   },
   "source": [
    "Import Relevant Libraries"
   ]
  },
  {
   "cell_type": "code",
   "execution_count": 69,
   "metadata": {
    "executionInfo": {
     "elapsed": 908,
     "status": "ok",
     "timestamp": 1669126499254,
     "user": {
      "displayName": "Mohit Kumar",
      "userId": "03888987891614882912"
     },
     "user_tz": -330
    },
    "id": "B5KOEo65Cma2"
   },
   "outputs": [],
   "source": [
    "from tensorflow.keras.layers import Dense,Dropout,Activation,Flatten\n",
    "from tensorflow.keras.optimizers import Adam\n",
    "from sklearn import metrics\n",
    "from tensorflow.keras.utils import to_categorical\n",
    "from sklearn.preprocessing import LabelEncoder"
   ]
  },
  {
   "cell_type": "code",
   "execution_count": 70,
   "metadata": {
    "executionInfo": {
     "elapsed": 4,
     "status": "ok",
     "timestamp": 1669126501847,
     "user": {
      "displayName": "Mohit Kumar",
      "userId": "03888987891614882912"
     },
     "user_tz": -330
    },
    "id": "hHB0SQsBDY2u"
   },
   "outputs": [],
   "source": [
    "### Label Encoding -> Label Encoder\n",
    "labelencoder=LabelEncoder()\n",
    "y=to_categorical(labelencoder.fit_transform(y))"
   ]
  },
  {
   "cell_type": "markdown",
   "metadata": {
    "id": "21KE-zOdLVOX"
   },
   "source": [
    "### Test Train Split"
   ]
  },
  {
   "cell_type": "code",
   "execution_count": 71,
   "metadata": {
    "executionInfo": {
     "elapsed": 415,
     "status": "ok",
     "timestamp": 1669126510783,
     "user": {
      "displayName": "Mohit Kumar",
      "userId": "03888987891614882912"
     },
     "user_tz": -330
    },
    "id": "FdhHttdeLRZB"
   },
   "outputs": [],
   "source": [
    "from sklearn.model_selection import train_test_split"
   ]
  },
  {
   "cell_type": "code",
   "execution_count": 72,
   "metadata": {
    "executionInfo": {
     "elapsed": 560,
     "status": "ok",
     "timestamp": 1669126515173,
     "user": {
      "displayName": "Mohit Kumar",
      "userId": "03888987891614882912"
     },
     "user_tz": -330
    },
    "id": "z66seMffLhpe"
   },
   "outputs": [],
   "source": [
    "X_train, X_test, y_train, y_test = train_test_split(X,y, test_size = 0.2, random_state =0)"
   ]
  },
  {
   "cell_type": "code",
   "execution_count": 73,
   "metadata": {
    "colab": {
     "base_uri": "https://localhost:8080/"
    },
    "executionInfo": {
     "elapsed": 5,
     "status": "ok",
     "timestamp": 1669126517241,
     "user": {
      "displayName": "Mohit Kumar",
      "userId": "03888987891614882912"
     },
     "user_tz": -330
    },
    "id": "-B9j-ViiL-9O",
    "outputId": "25b2d034-471c-49da-af78-8fb918b32682"
   },
   "outputs": [
    {
     "data": {
      "text/plain": [
       "(7578, 1895)"
      ]
     },
     "execution_count": 73,
     "metadata": {},
     "output_type": "execute_result"
    }
   ],
   "source": [
    "X_train.shape[0], X_test.shape[0]"
   ]
  },
  {
   "cell_type": "code",
   "execution_count": 74,
   "metadata": {
    "colab": {
     "base_uri": "https://localhost:8080/"
    },
    "executionInfo": {
     "elapsed": 610,
     "status": "ok",
     "timestamp": 1669126519851,
     "user": {
      "displayName": "Mohit Kumar",
      "userId": "03888987891614882912"
     },
     "user_tz": -330
    },
    "id": "YI9GhXUPMAPP",
    "outputId": "af99645a-a0e8-482c-a97f-b8d3002e6fff"
   },
   "outputs": [
    {
     "data": {
      "text/plain": [
       "(7578, 1895)"
      ]
     },
     "execution_count": 74,
     "metadata": {},
     "output_type": "execute_result"
    }
   ],
   "source": [
    "y_train.shape[0], y_test.shape[0]"
   ]
  },
  {
   "cell_type": "code",
   "execution_count": 75,
   "metadata": {
    "executionInfo": {
     "elapsed": 1095,
     "status": "ok",
     "timestamp": 1669126523543,
     "user": {
      "displayName": "Mohit Kumar",
      "userId": "03888987891614882912"
     },
     "user_tz": -330
    },
    "id": "V1wCgfVSMFDH"
   },
   "outputs": [],
   "source": [
    "#No. of Classes\n",
    "num_labels = y.shape[1]"
   ]
  },
  {
   "cell_type": "code",
   "execution_count": 76,
   "metadata": {
    "colab": {
     "base_uri": "https://localhost:8080/"
    },
    "executionInfo": {
     "elapsed": 6,
     "status": "ok",
     "timestamp": 1669126525671,
     "user": {
      "displayName": "Mohit Kumar",
      "userId": "03888987891614882912"
     },
     "user_tz": -330
    },
    "id": "ga_eQXDMMd_3",
    "outputId": "a87246ef-9252-40f8-bc7c-a48640be69df"
   },
   "outputs": [
    {
     "name": "stdout",
     "output_type": "stream",
     "text": [
      "[jovian] Detected Colab notebook...\u001b[0m\n",
      "[jovian] jovian.commit() is no longer required on Google Colab. If you ran this notebook from Jovian, \n",
      "then just save this file in Colab using Ctrl+S/Cmd+S and it will be updated on Jovian. \n",
      "Also, you can also delete this cell, it's no longer necessary.\u001b[0m\n"
     ]
    }
   ],
   "source": [
    "jovian.commit()"
   ]
  },
  {
   "cell_type": "markdown",
   "metadata": {
    "id": "je9wwqO0MbSQ"
   },
   "source": [
    "### Build the Models"
   ]
  },
  {
   "cell_type": "markdown",
   "metadata": {
    "id": "i56cfn7ePHhF"
   },
   "source": [
    "1. ANN model using Keras sequential API\n",
    "2. The first layer has 100 neurons. Input shape is 40 according to the number of features with activation function as Relu, and to avoid any overfitting, we’ll use the Dropout layer at a rate of 0.5.\n",
    "3. The second layer has 200 neurons with activation function as Relu and the drop out at a rate of 0.5.\n",
    "5. The third layer again has 100 neurons with activation as Relu and the drop out at a rate of 0.5."
   ]
  },
  {
   "cell_type": "code",
   "execution_count": 77,
   "metadata": {
    "executionInfo": {
     "elapsed": 345,
     "status": "ok",
     "timestamp": 1669126532303,
     "user": {
      "displayName": "Mohit Kumar",
      "userId": "03888987891614882912"
     },
     "user_tz": -330
    },
    "id": "2n1JicLiNl54"
   },
   "outputs": [],
   "source": [
    "model=Sequential()\n",
    "\n",
    "# First layer\n",
    "model.add(Dense(100,input_shape=(40,)))\n",
    "model.add(Activation('relu'))\n",
    "model.add(Dropout(0.5))\n",
    "\n",
    "# Second layer\n",
    "model.add(Dense(200))\n",
    "model.add(Activation('relu'))\n",
    "model.add(Dropout(0.5))\n",
    "\n",
    "# Third layer\n",
    "model.add(Dense(100))\n",
    "model.add(Activation('relu'))\n",
    "model.add(Dropout(0.5))\n",
    "\n",
    "# Final layer\n",
    "model.add(Dense(num_labels))\n",
    "model.add(Activation('softmax'))"
   ]
  },
  {
   "cell_type": "code",
   "execution_count": 78,
   "metadata": {
    "colab": {
     "base_uri": "https://localhost:8080/"
    },
    "executionInfo": {
     "elapsed": 962,
     "status": "ok",
     "timestamp": 1669126536548,
     "user": {
      "displayName": "Mohit Kumar",
      "userId": "03888987891614882912"
     },
     "user_tz": -330
    },
    "id": "JGsFpemCO9wH",
    "outputId": "cf1a3704-bec0-4246-e8ea-42e9d8804025"
   },
   "outputs": [
    {
     "name": "stdout",
     "output_type": "stream",
     "text": [
      "Model: \"sequential_2\"\n",
      "_________________________________________________________________\n",
      " Layer (type)                Output Shape              Param #   \n",
      "=================================================================\n",
      " dense_8 (Dense)             (None, 100)               4100      \n",
      "                                                                 \n",
      " activation_8 (Activation)   (None, 100)               0         \n",
      "                                                                 \n",
      " dropout_6 (Dropout)         (None, 100)               0         \n",
      "                                                                 \n",
      " dense_9 (Dense)             (None, 200)               20200     \n",
      "                                                                 \n",
      " activation_9 (Activation)   (None, 200)               0         \n",
      "                                                                 \n",
      " dropout_7 (Dropout)         (None, 200)               0         \n",
      "                                                                 \n",
      " dense_10 (Dense)            (None, 100)               20100     \n",
      "                                                                 \n",
      " activation_10 (Activation)  (None, 100)               0         \n",
      "                                                                 \n",
      " dropout_8 (Dropout)         (None, 100)               0         \n",
      "                                                                 \n",
      " dense_11 (Dense)            (None, 41)                4141      \n",
      "                                                                 \n",
      " activation_11 (Activation)  (None, 41)                0         \n",
      "                                                                 \n",
      "=================================================================\n",
      "Total params: 48,541\n",
      "Trainable params: 48,541\n",
      "Non-trainable params: 0\n",
      "_________________________________________________________________\n"
     ]
    }
   ],
   "source": [
    "model.summary()"
   ]
  },
  {
   "cell_type": "code",
   "execution_count": 79,
   "metadata": {
    "executionInfo": {
     "elapsed": 756,
     "status": "ok",
     "timestamp": 1669126539513,
     "user": {
      "displayName": "Mohit Kumar",
      "userId": "03888987891614882912"
     },
     "user_tz": -330
    },
    "id": "T4FNKMOpPe47"
   },
   "outputs": [],
   "source": [
    "model.compile(loss='categorical_crossentropy', metrics=['accuracy'], optimizer='adam')"
   ]
  },
  {
   "cell_type": "markdown",
   "metadata": {
    "id": "jg3YkKFGP9rC"
   },
   "source": [
    "### Training the Model"
   ]
  },
  {
   "cell_type": "markdown",
   "metadata": {
    "id": "S5h-aWA4QLj8"
   },
   "source": [
    "Import Relavant Libraries\n"
   ]
  },
  {
   "cell_type": "code",
   "execution_count": 80,
   "metadata": {
    "colab": {
     "base_uri": "https://localhost:8080/"
    },
    "executionInfo": {
     "elapsed": 143768,
     "status": "ok",
     "timestamp": 1669126691158,
     "user": {
      "displayName": "Mohit Kumar",
      "userId": "03888987891614882912"
     },
     "user_tz": -330
    },
    "id": "kOqdknb6QKsP",
    "outputId": "66a3245b-1829-4a4a-9809-6ce3d71c8575"
   },
   "outputs": [
    {
     "name": "stdout",
     "output_type": "stream",
     "text": [
      "Epoch 1/100\n",
      "236/237 [============================>.] - ETA: 0s - loss: 14.2841 - accuracy: 0.0278\n",
      "Epoch 1: val_loss improved from inf to 3.70004, saving model to /content/freesound-audio-tagging/audio_train\n",
      "237/237 [==============================] - 3s 12ms/step - loss: 14.2487 - accuracy: 0.0278 - val_loss: 3.7000 - val_accuracy: 0.0306\n",
      "Epoch 2/100\n",
      "233/237 [============================>.] - ETA: 0s - loss: 3.8505 - accuracy: 0.0306\n",
      "Epoch 2: val_loss improved from 3.70004 to 3.68708, saving model to /content/freesound-audio-tagging/audio_train\n",
      "237/237 [==============================] - 2s 10ms/step - loss: 3.8492 - accuracy: 0.0305 - val_loss: 3.6871 - val_accuracy: 0.0306\n",
      "Epoch 3/100\n",
      "226/237 [===========================>..] - ETA: 0s - loss: 3.7401 - accuracy: 0.0312\n",
      "Epoch 3: val_loss improved from 3.68708 to 3.67804, saving model to /content/freesound-audio-tagging/audio_train\n",
      "237/237 [==============================] - 2s 9ms/step - loss: 3.7385 - accuracy: 0.0311 - val_loss: 3.6780 - val_accuracy: 0.0306\n",
      "Epoch 4/100\n",
      "234/237 [============================>.] - ETA: 0s - loss: 3.6956 - accuracy: 0.0321\n",
      "Epoch 4: val_loss improved from 3.67804 to 3.67181, saving model to /content/freesound-audio-tagging/audio_train\n",
      "237/237 [==============================] - 2s 10ms/step - loss: 3.6957 - accuracy: 0.0323 - val_loss: 3.6718 - val_accuracy: 0.0306\n",
      "Epoch 5/100\n",
      "234/237 [============================>.] - ETA: 0s - loss: 3.6809 - accuracy: 0.0323\n",
      "Epoch 5: val_loss improved from 3.67181 to 3.66789, saving model to /content/freesound-audio-tagging/audio_train\n",
      "237/237 [==============================] - 2s 10ms/step - loss: 3.6811 - accuracy: 0.0319 - val_loss: 3.6679 - val_accuracy: 0.0306\n",
      "Epoch 6/100\n",
      "237/237 [==============================] - ETA: 0s - loss: 3.6747 - accuracy: 0.0306\n",
      "Epoch 6: val_loss improved from 3.66789 to 3.66529, saving model to /content/freesound-audio-tagging/audio_train\n",
      "237/237 [==============================] - 2s 10ms/step - loss: 3.6747 - accuracy: 0.0306 - val_loss: 3.6653 - val_accuracy: 0.0306\n",
      "Epoch 7/100\n",
      "234/237 [============================>.] - ETA: 0s - loss: 3.6641 - accuracy: 0.0288\n",
      "Epoch 7: val_loss improved from 3.66529 to 3.66360, saving model to /content/freesound-audio-tagging/audio_train\n",
      "237/237 [==============================] - 3s 11ms/step - loss: 3.6647 - accuracy: 0.0290 - val_loss: 3.6636 - val_accuracy: 0.0243\n",
      "Epoch 8/100\n",
      "222/237 [===========================>..] - ETA: 0s - loss: 3.6600 - accuracy: 0.0324\n",
      "Epoch 8: val_loss improved from 3.66360 to 3.66263, saving model to /content/freesound-audio-tagging/audio_train\n",
      "237/237 [==============================] - 2s 10ms/step - loss: 3.6591 - accuracy: 0.0314 - val_loss: 3.6626 - val_accuracy: 0.0243\n",
      "Epoch 9/100\n",
      "231/237 [============================>.] - ETA: 0s - loss: 3.6569 - accuracy: 0.0337\n",
      "Epoch 9: val_loss improved from 3.66263 to 3.66192, saving model to /content/freesound-audio-tagging/audio_train\n",
      "237/237 [==============================] - 2s 10ms/step - loss: 3.6588 - accuracy: 0.0335 - val_loss: 3.6619 - val_accuracy: 0.0243\n",
      "Epoch 10/100\n",
      "224/237 [===========================>..] - ETA: 0s - loss: 3.6616 - accuracy: 0.0332\n",
      "Epoch 10: val_loss improved from 3.66192 to 3.66155, saving model to /content/freesound-audio-tagging/audio_train\n",
      "237/237 [==============================] - 2s 10ms/step - loss: 3.6594 - accuracy: 0.0335 - val_loss: 3.6615 - val_accuracy: 0.0243\n",
      "Epoch 11/100\n",
      "225/237 [===========================>..] - ETA: 0s - loss: 3.6520 - accuracy: 0.0325\n",
      "Epoch 11: val_loss improved from 3.66155 to 3.66127, saving model to /content/freesound-audio-tagging/audio_train\n",
      "237/237 [==============================] - 2s 10ms/step - loss: 3.6520 - accuracy: 0.0339 - val_loss: 3.6613 - val_accuracy: 0.0243\n",
      "Epoch 12/100\n",
      "232/237 [============================>.] - ETA: 0s - loss: 3.6520 - accuracy: 0.0333\n",
      "Epoch 12: val_loss improved from 3.66127 to 3.66125, saving model to /content/freesound-audio-tagging/audio_train\n",
      "237/237 [==============================] - 3s 11ms/step - loss: 3.6521 - accuracy: 0.0333 - val_loss: 3.6613 - val_accuracy: 0.0243\n",
      "Epoch 13/100\n",
      "233/237 [============================>.] - ETA: 0s - loss: 3.6524 - accuracy: 0.0337\n",
      "Epoch 13: val_loss improved from 3.66125 to 3.66121, saving model to /content/freesound-audio-tagging/audio_train\n",
      "237/237 [==============================] - 2s 10ms/step - loss: 3.6528 - accuracy: 0.0337 - val_loss: 3.6612 - val_accuracy: 0.0243\n",
      "Epoch 14/100\n",
      "237/237 [==============================] - ETA: 0s - loss: 3.6507 - accuracy: 0.0337\n",
      "Epoch 14: val_loss improved from 3.66121 to 3.66116, saving model to /content/freesound-audio-tagging/audio_train\n",
      "237/237 [==============================] - 2s 10ms/step - loss: 3.6507 - accuracy: 0.0337 - val_loss: 3.6612 - val_accuracy: 0.0243\n",
      "Epoch 15/100\n",
      "228/237 [===========================>..] - ETA: 0s - loss: 3.6529 - accuracy: 0.0332\n",
      "Epoch 15: val_loss did not improve from 3.66116\n",
      "237/237 [==============================] - 1s 4ms/step - loss: 3.6531 - accuracy: 0.0334 - val_loss: 3.6613 - val_accuracy: 0.0243\n",
      "Epoch 16/100\n",
      "223/237 [===========================>..] - ETA: 0s - loss: 3.6544 - accuracy: 0.0338\n",
      "Epoch 16: val_loss did not improve from 3.66116\n",
      "237/237 [==============================] - 1s 4ms/step - loss: 3.6536 - accuracy: 0.0335 - val_loss: 3.6613 - val_accuracy: 0.0243\n",
      "Epoch 17/100\n",
      "235/237 [============================>.] - ETA: 0s - loss: 3.6500 - accuracy: 0.0330\n",
      "Epoch 17: val_loss did not improve from 3.66116\n",
      "237/237 [==============================] - 1s 4ms/step - loss: 3.6496 - accuracy: 0.0334 - val_loss: 3.6614 - val_accuracy: 0.0243\n",
      "Epoch 18/100\n",
      "233/237 [============================>.] - ETA: 0s - loss: 3.6507 - accuracy: 0.0338\n",
      "Epoch 18: val_loss did not improve from 3.66116\n",
      "237/237 [==============================] - 1s 4ms/step - loss: 3.6504 - accuracy: 0.0337 - val_loss: 3.6614 - val_accuracy: 0.0243\n",
      "Epoch 19/100\n",
      "228/237 [===========================>..] - ETA: 0s - loss: 3.6513 - accuracy: 0.0339\n",
      "Epoch 19: val_loss did not improve from 3.66116\n",
      "237/237 [==============================] - 1s 4ms/step - loss: 3.6522 - accuracy: 0.0335 - val_loss: 3.6615 - val_accuracy: 0.0243\n",
      "Epoch 20/100\n",
      "230/237 [============================>.] - ETA: 0s - loss: 3.6517 - accuracy: 0.0340\n",
      "Epoch 20: val_loss did not improve from 3.66116\n",
      "237/237 [==============================] - 1s 4ms/step - loss: 3.6517 - accuracy: 0.0337 - val_loss: 3.6615 - val_accuracy: 0.0243\n",
      "Epoch 21/100\n",
      "234/237 [============================>.] - ETA: 0s - loss: 3.6503 - accuracy: 0.0339\n",
      "Epoch 21: val_loss did not improve from 3.66116\n",
      "237/237 [==============================] - 1s 4ms/step - loss: 3.6496 - accuracy: 0.0335 - val_loss: 3.6615 - val_accuracy: 0.0243\n",
      "Epoch 22/100\n",
      "225/237 [===========================>..] - ETA: 0s - loss: 3.6504 - accuracy: 0.0342\n",
      "Epoch 22: val_loss did not improve from 3.66116\n",
      "237/237 [==============================] - 1s 4ms/step - loss: 3.6516 - accuracy: 0.0337 - val_loss: 3.6616 - val_accuracy: 0.0243\n",
      "Epoch 23/100\n",
      "232/237 [============================>.] - ETA: 0s - loss: 3.6519 - accuracy: 0.0334\n",
      "Epoch 23: val_loss did not improve from 3.66116\n",
      "237/237 [==============================] - 2s 7ms/step - loss: 3.6512 - accuracy: 0.0335 - val_loss: 3.6616 - val_accuracy: 0.0243\n",
      "Epoch 24/100\n",
      "231/237 [============================>.] - ETA: 0s - loss: 3.6509 - accuracy: 0.0334\n",
      "Epoch 24: val_loss did not improve from 3.66116\n",
      "237/237 [==============================] - 1s 5ms/step - loss: 3.6507 - accuracy: 0.0334 - val_loss: 3.6617 - val_accuracy: 0.0243\n",
      "Epoch 25/100\n",
      "227/237 [===========================>..] - ETA: 0s - loss: 3.6520 - accuracy: 0.0337\n",
      "Epoch 25: val_loss did not improve from 3.66116\n",
      "237/237 [==============================] - 1s 4ms/step - loss: 3.6527 - accuracy: 0.0335 - val_loss: 3.6617 - val_accuracy: 0.0243\n",
      "Epoch 26/100\n",
      "226/237 [===========================>..] - ETA: 0s - loss: 3.6494 - accuracy: 0.0336\n",
      "Epoch 26: val_loss did not improve from 3.66116\n",
      "237/237 [==============================] - 1s 4ms/step - loss: 3.6497 - accuracy: 0.0334 - val_loss: 3.6618 - val_accuracy: 0.0243\n",
      "Epoch 27/100\n",
      "231/237 [============================>.] - ETA: 0s - loss: 3.6510 - accuracy: 0.0333\n",
      "Epoch 27: val_loss did not improve from 3.66116\n",
      "237/237 [==============================] - 1s 4ms/step - loss: 3.6507 - accuracy: 0.0335 - val_loss: 3.6617 - val_accuracy: 0.0243\n",
      "Epoch 28/100\n",
      "231/237 [============================>.] - ETA: 0s - loss: 3.6508 - accuracy: 0.0334\n",
      "Epoch 28: val_loss did not improve from 3.66116\n",
      "237/237 [==============================] - 1s 5ms/step - loss: 3.6501 - accuracy: 0.0335 - val_loss: 3.6618 - val_accuracy: 0.0243\n",
      "Epoch 29/100\n",
      "233/237 [============================>.] - ETA: 0s - loss: 3.6501 - accuracy: 0.0334\n",
      "Epoch 29: val_loss did not improve from 3.66116\n",
      "237/237 [==============================] - 1s 4ms/step - loss: 3.6496 - accuracy: 0.0335 - val_loss: 3.6618 - val_accuracy: 0.0243\n",
      "Epoch 30/100\n",
      "237/237 [==============================] - ETA: 0s - loss: 3.6501 - accuracy: 0.0335\n",
      "Epoch 30: val_loss did not improve from 3.66116\n",
      "237/237 [==============================] - 1s 5ms/step - loss: 3.6501 - accuracy: 0.0335 - val_loss: 3.6617 - val_accuracy: 0.0243\n",
      "Epoch 31/100\n",
      "236/237 [============================>.] - ETA: 0s - loss: 3.6512 - accuracy: 0.0336\n",
      "Epoch 31: val_loss did not improve from 3.66116\n",
      "237/237 [==============================] - 1s 5ms/step - loss: 3.6514 - accuracy: 0.0335 - val_loss: 3.6618 - val_accuracy: 0.0243\n",
      "Epoch 32/100\n",
      "230/237 [============================>.] - ETA: 0s - loss: 3.6501 - accuracy: 0.0340\n",
      "Epoch 32: val_loss did not improve from 3.66116\n",
      "237/237 [==============================] - 1s 4ms/step - loss: 3.6500 - accuracy: 0.0334 - val_loss: 3.6619 - val_accuracy: 0.0243\n",
      "Epoch 33/100\n",
      "237/237 [==============================] - ETA: 0s - loss: 3.6508 - accuracy: 0.0334\n",
      "Epoch 33: val_loss did not improve from 3.66116\n",
      "237/237 [==============================] - 1s 4ms/step - loss: 3.6508 - accuracy: 0.0334 - val_loss: 3.6619 - val_accuracy: 0.0243\n",
      "Epoch 34/100\n",
      "227/237 [===========================>..] - ETA: 0s - loss: 3.6496 - accuracy: 0.0339\n",
      "Epoch 34: val_loss did not improve from 3.66116\n",
      "237/237 [==============================] - 1s 5ms/step - loss: 3.6499 - accuracy: 0.0335 - val_loss: 3.6619 - val_accuracy: 0.0243\n",
      "Epoch 35/100\n",
      "233/237 [============================>.] - ETA: 0s - loss: 3.6500 - accuracy: 0.0335\n",
      "Epoch 35: val_loss did not improve from 3.66116\n",
      "237/237 [==============================] - 1s 4ms/step - loss: 3.6500 - accuracy: 0.0335 - val_loss: 3.6618 - val_accuracy: 0.0243\n",
      "Epoch 36/100\n",
      "227/237 [===========================>..] - ETA: 0s - loss: 3.6493 - accuracy: 0.0337\n",
      "Epoch 36: val_loss did not improve from 3.66116\n",
      "237/237 [==============================] - 1s 4ms/step - loss: 3.6499 - accuracy: 0.0335 - val_loss: 3.6618 - val_accuracy: 0.0243\n",
      "Epoch 37/100\n",
      "233/237 [============================>.] - ETA: 0s - loss: 3.6507 - accuracy: 0.0334\n",
      "Epoch 37: val_loss did not improve from 3.66116\n",
      "237/237 [==============================] - 1s 5ms/step - loss: 3.6503 - accuracy: 0.0335 - val_loss: 3.6619 - val_accuracy: 0.0243\n",
      "Epoch 38/100\n",
      "231/237 [============================>.] - ETA: 0s - loss: 3.6531 - accuracy: 0.0334\n",
      "Epoch 38: val_loss did not improve from 3.66116\n",
      "237/237 [==============================] - 1s 4ms/step - loss: 3.6516 - accuracy: 0.0335 - val_loss: 3.6618 - val_accuracy: 0.0243\n",
      "Epoch 39/100\n",
      "236/237 [============================>.] - ETA: 0s - loss: 3.6509 - accuracy: 0.0336\n",
      "Epoch 39: val_loss did not improve from 3.66116\n",
      "237/237 [==============================] - 1s 4ms/step - loss: 3.6509 - accuracy: 0.0335 - val_loss: 3.6618 - val_accuracy: 0.0243\n",
      "Epoch 40/100\n",
      "233/237 [============================>.] - ETA: 0s - loss: 3.6496 - accuracy: 0.0335\n",
      "Epoch 40: val_loss did not improve from 3.66116\n",
      "237/237 [==============================] - 1s 5ms/step - loss: 3.6499 - accuracy: 0.0335 - val_loss: 3.6618 - val_accuracy: 0.0243\n",
      "Epoch 41/100\n",
      "235/237 [============================>.] - ETA: 0s - loss: 3.6500 - accuracy: 0.0334\n",
      "Epoch 41: val_loss did not improve from 3.66116\n",
      "237/237 [==============================] - 1s 5ms/step - loss: 3.6500 - accuracy: 0.0335 - val_loss: 3.6618 - val_accuracy: 0.0243\n",
      "Epoch 42/100\n",
      "233/237 [============================>.] - ETA: 0s - loss: 3.6493 - accuracy: 0.0337\n",
      "Epoch 42: val_loss did not improve from 3.66116\n",
      "237/237 [==============================] - 1s 4ms/step - loss: 3.6496 - accuracy: 0.0335 - val_loss: 3.6618 - val_accuracy: 0.0243\n",
      "Epoch 43/100\n",
      "223/237 [===========================>..] - ETA: 0s - loss: 3.6474 - accuracy: 0.0332\n",
      "Epoch 43: val_loss did not improve from 3.66116\n",
      "237/237 [==============================] - 1s 5ms/step - loss: 3.6494 - accuracy: 0.0334 - val_loss: 3.6618 - val_accuracy: 0.0243\n",
      "Epoch 44/100\n",
      "236/237 [============================>.] - ETA: 0s - loss: 3.6496 - accuracy: 0.0335\n",
      "Epoch 44: val_loss did not improve from 3.66116\n",
      "237/237 [==============================] - 1s 4ms/step - loss: 3.6496 - accuracy: 0.0335 - val_loss: 3.6619 - val_accuracy: 0.0243\n",
      "Epoch 45/100\n",
      "229/237 [===========================>..] - ETA: 0s - loss: 3.6506 - accuracy: 0.0329\n",
      "Epoch 45: val_loss did not improve from 3.66116\n",
      "237/237 [==============================] - 1s 4ms/step - loss: 3.6495 - accuracy: 0.0335 - val_loss: 3.6618 - val_accuracy: 0.0243\n",
      "Epoch 46/100\n",
      "234/237 [============================>.] - ETA: 0s - loss: 3.6502 - accuracy: 0.0335\n",
      "Epoch 46: val_loss did not improve from 3.66116\n",
      "237/237 [==============================] - 1s 4ms/step - loss: 3.6507 - accuracy: 0.0335 - val_loss: 3.6619 - val_accuracy: 0.0243\n",
      "Epoch 47/100\n",
      "224/237 [===========================>..] - ETA: 0s - loss: 3.6502 - accuracy: 0.0328\n",
      "Epoch 47: val_loss did not improve from 3.66116\n",
      "237/237 [==============================] - 1s 4ms/step - loss: 3.6496 - accuracy: 0.0335 - val_loss: 3.6619 - val_accuracy: 0.0243\n",
      "Epoch 48/100\n",
      "229/237 [===========================>..] - ETA: 0s - loss: 3.6490 - accuracy: 0.0332\n",
      "Epoch 48: val_loss did not improve from 3.66116\n",
      "237/237 [==============================] - 1s 4ms/step - loss: 3.6497 - accuracy: 0.0333 - val_loss: 3.6619 - val_accuracy: 0.0243\n",
      "Epoch 49/100\n",
      "232/237 [============================>.] - ETA: 0s - loss: 3.6506 - accuracy: 0.0331\n",
      "Epoch 49: val_loss did not improve from 3.66116\n",
      "237/237 [==============================] - 1s 5ms/step - loss: 3.6505 - accuracy: 0.0334 - val_loss: 3.6619 - val_accuracy: 0.0243\n",
      "Epoch 50/100\n",
      "228/237 [===========================>..] - ETA: 0s - loss: 3.6590 - accuracy: 0.0337\n",
      "Epoch 50: val_loss did not improve from 3.66116\n",
      "237/237 [==============================] - 1s 4ms/step - loss: 3.6578 - accuracy: 0.0338 - val_loss: 3.6618 - val_accuracy: 0.0243\n",
      "Epoch 51/100\n",
      "223/237 [===========================>..] - ETA: 0s - loss: 3.6537 - accuracy: 0.0342\n",
      "Epoch 51: val_loss did not improve from 3.66116\n",
      "237/237 [==============================] - 1s 5ms/step - loss: 3.6532 - accuracy: 0.0334 - val_loss: 3.6619 - val_accuracy: 0.0243\n",
      "Epoch 52/100\n",
      "234/237 [============================>.] - ETA: 0s - loss: 3.6494 - accuracy: 0.0334\n",
      "Epoch 52: val_loss did not improve from 3.66116\n",
      "237/237 [==============================] - 1s 5ms/step - loss: 3.6493 - accuracy: 0.0334 - val_loss: 3.6619 - val_accuracy: 0.0243\n",
      "Epoch 53/100\n",
      "229/237 [===========================>..] - ETA: 0s - loss: 3.6502 - accuracy: 0.0338\n",
      "Epoch 53: val_loss did not improve from 3.66116\n",
      "237/237 [==============================] - 1s 5ms/step - loss: 3.6502 - accuracy: 0.0335 - val_loss: 3.6619 - val_accuracy: 0.0243\n",
      "Epoch 54/100\n",
      "234/237 [============================>.] - ETA: 0s - loss: 3.6489 - accuracy: 0.0334\n",
      "Epoch 54: val_loss did not improve from 3.66116\n",
      "237/237 [==============================] - 1s 5ms/step - loss: 3.6494 - accuracy: 0.0334 - val_loss: 3.6619 - val_accuracy: 0.0243\n",
      "Epoch 55/100\n",
      "232/237 [============================>.] - ETA: 0s - loss: 3.6502 - accuracy: 0.0339\n",
      "Epoch 55: val_loss did not improve from 3.66116\n",
      "237/237 [==============================] - 1s 5ms/step - loss: 3.6500 - accuracy: 0.0335 - val_loss: 3.6618 - val_accuracy: 0.0243\n",
      "Epoch 56/100\n",
      "227/237 [===========================>..] - ETA: 0s - loss: 3.6514 - accuracy: 0.0339\n",
      "Epoch 56: val_loss did not improve from 3.66116\n",
      "237/237 [==============================] - 1s 4ms/step - loss: 3.6509 - accuracy: 0.0335 - val_loss: 3.6618 - val_accuracy: 0.0243\n",
      "Epoch 57/100\n",
      "229/237 [===========================>..] - ETA: 0s - loss: 3.6497 - accuracy: 0.0334\n",
      "Epoch 57: val_loss did not improve from 3.66116\n",
      "237/237 [==============================] - 1s 4ms/step - loss: 3.6507 - accuracy: 0.0335 - val_loss: 3.6619 - val_accuracy: 0.0243\n",
      "Epoch 58/100\n",
      "227/237 [===========================>..] - ETA: 0s - loss: 3.6486 - accuracy: 0.0333\n",
      "Epoch 58: val_loss did not improve from 3.66116\n",
      "237/237 [==============================] - 1s 4ms/step - loss: 3.6496 - accuracy: 0.0335 - val_loss: 3.6618 - val_accuracy: 0.0243\n",
      "Epoch 59/100\n",
      "231/237 [============================>.] - ETA: 0s - loss: 3.6498 - accuracy: 0.0333\n",
      "Epoch 59: val_loss did not improve from 3.66116\n",
      "237/237 [==============================] - 1s 5ms/step - loss: 3.6497 - accuracy: 0.0335 - val_loss: 3.6619 - val_accuracy: 0.0243\n",
      "Epoch 60/100\n",
      "227/237 [===========================>..] - ETA: 0s - loss: 3.6493 - accuracy: 0.0339\n",
      "Epoch 60: val_loss did not improve from 3.66116\n",
      "237/237 [==============================] - 1s 4ms/step - loss: 3.6493 - accuracy: 0.0335 - val_loss: 3.6619 - val_accuracy: 0.0243\n",
      "Epoch 61/100\n",
      "233/237 [============================>.] - ETA: 0s - loss: 3.6502 - accuracy: 0.0339\n",
      "Epoch 61: val_loss did not improve from 3.66116\n",
      "237/237 [==============================] - 1s 4ms/step - loss: 3.6505 - accuracy: 0.0337 - val_loss: 3.6618 - val_accuracy: 0.0243\n",
      "Epoch 62/100\n",
      "227/237 [===========================>..] - ETA: 0s - loss: 3.6488 - accuracy: 0.0335\n",
      "Epoch 62: val_loss did not improve from 3.66116\n",
      "237/237 [==============================] - 1s 5ms/step - loss: 3.6497 - accuracy: 0.0335 - val_loss: 3.6619 - val_accuracy: 0.0243\n",
      "Epoch 63/100\n",
      "233/237 [============================>.] - ETA: 0s - loss: 3.6506 - accuracy: 0.0335\n",
      "Epoch 63: val_loss did not improve from 3.66116\n",
      "237/237 [==============================] - 1s 5ms/step - loss: 3.6498 - accuracy: 0.0335 - val_loss: 3.6619 - val_accuracy: 0.0243\n",
      "Epoch 64/100\n",
      "234/237 [============================>.] - ETA: 0s - loss: 3.6506 - accuracy: 0.0331\n",
      "Epoch 64: val_loss did not improve from 3.66116\n",
      "237/237 [==============================] - 1s 5ms/step - loss: 3.6508 - accuracy: 0.0335 - val_loss: 3.6618 - val_accuracy: 0.0243\n",
      "Epoch 65/100\n",
      "231/237 [============================>.] - ETA: 0s - loss: 3.6507 - accuracy: 0.0341\n",
      "Epoch 65: val_loss did not improve from 3.66116\n",
      "237/237 [==============================] - 1s 4ms/step - loss: 3.6505 - accuracy: 0.0335 - val_loss: 3.6619 - val_accuracy: 0.0243\n",
      "Epoch 66/100\n",
      "236/237 [============================>.] - ETA: 0s - loss: 3.6509 - accuracy: 0.0334\n",
      "Epoch 66: val_loss did not improve from 3.66116\n",
      "237/237 [==============================] - 1s 4ms/step - loss: 3.6511 - accuracy: 0.0335 - val_loss: 3.6618 - val_accuracy: 0.0243\n",
      "Epoch 67/100\n",
      "230/237 [============================>.] - ETA: 0s - loss: 3.6489 - accuracy: 0.0336\n",
      "Epoch 67: val_loss did not improve from 3.66116\n",
      "237/237 [==============================] - 1s 4ms/step - loss: 3.6494 - accuracy: 0.0335 - val_loss: 3.6619 - val_accuracy: 0.0243\n",
      "Epoch 68/100\n",
      "236/237 [============================>.] - ETA: 0s - loss: 3.6507 - accuracy: 0.0336\n",
      "Epoch 68: val_loss did not improve from 3.66116\n",
      "237/237 [==============================] - 1s 4ms/step - loss: 3.6506 - accuracy: 0.0337 - val_loss: 3.6618 - val_accuracy: 0.0243\n",
      "Epoch 69/100\n",
      "235/237 [============================>.] - ETA: 0s - loss: 3.6542 - accuracy: 0.0334\n",
      "Epoch 69: val_loss did not improve from 3.66116\n",
      "237/237 [==============================] - 1s 5ms/step - loss: 3.6540 - accuracy: 0.0335 - val_loss: 3.6619 - val_accuracy: 0.0243\n",
      "Epoch 70/100\n",
      "236/237 [============================>.] - ETA: 0s - loss: 3.6501 - accuracy: 0.0332\n",
      "Epoch 70: val_loss did not improve from 3.66116\n",
      "237/237 [==============================] - 1s 5ms/step - loss: 3.6502 - accuracy: 0.0335 - val_loss: 3.6619 - val_accuracy: 0.0243\n",
      "Epoch 71/100\n",
      "234/237 [============================>.] - ETA: 0s - loss: 3.6509 - accuracy: 0.0331\n",
      "Epoch 71: val_loss did not improve from 3.66116\n",
      "237/237 [==============================] - 1s 5ms/step - loss: 3.6504 - accuracy: 0.0335 - val_loss: 3.6619 - val_accuracy: 0.0243\n",
      "Epoch 72/100\n",
      "232/237 [============================>.] - ETA: 0s - loss: 3.6495 - accuracy: 0.0338\n",
      "Epoch 72: val_loss did not improve from 3.66116\n",
      "237/237 [==============================] - 1s 4ms/step - loss: 3.6497 - accuracy: 0.0335 - val_loss: 3.6619 - val_accuracy: 0.0243\n",
      "Epoch 73/100\n",
      "234/237 [============================>.] - ETA: 0s - loss: 3.6500 - accuracy: 0.0335\n",
      "Epoch 73: val_loss did not improve from 3.66116\n",
      "237/237 [==============================] - 1s 5ms/step - loss: 3.6498 - accuracy: 0.0335 - val_loss: 3.6619 - val_accuracy: 0.0243\n",
      "Epoch 74/100\n",
      "233/237 [============================>.] - ETA: 0s - loss: 3.6502 - accuracy: 0.0333\n",
      "Epoch 74: val_loss did not improve from 3.66116\n",
      "237/237 [==============================] - 1s 4ms/step - loss: 3.6505 - accuracy: 0.0335 - val_loss: 3.6618 - val_accuracy: 0.0243\n",
      "Epoch 75/100\n",
      "226/237 [===========================>..] - ETA: 0s - loss: 3.6491 - accuracy: 0.0335\n",
      "Epoch 75: val_loss did not improve from 3.66116\n",
      "237/237 [==============================] - 1s 4ms/step - loss: 3.6500 - accuracy: 0.0335 - val_loss: 3.6618 - val_accuracy: 0.0243\n",
      "Epoch 76/100\n",
      "229/237 [===========================>..] - ETA: 0s - loss: 3.6502 - accuracy: 0.0333\n",
      "Epoch 76: val_loss did not improve from 3.66116\n",
      "237/237 [==============================] - 1s 4ms/step - loss: 3.6496 - accuracy: 0.0335 - val_loss: 3.6618 - val_accuracy: 0.0243\n",
      "Epoch 77/100\n",
      "231/237 [============================>.] - ETA: 0s - loss: 3.6506 - accuracy: 0.0337\n",
      "Epoch 77: val_loss did not improve from 3.66116\n",
      "237/237 [==============================] - 1s 5ms/step - loss: 3.6497 - accuracy: 0.0335 - val_loss: 3.6618 - val_accuracy: 0.0243\n",
      "Epoch 78/100\n",
      "237/237 [==============================] - ETA: 0s - loss: 3.6496 - accuracy: 0.0335\n",
      "Epoch 78: val_loss did not improve from 3.66116\n",
      "237/237 [==============================] - 1s 5ms/step - loss: 3.6496 - accuracy: 0.0335 - val_loss: 3.6619 - val_accuracy: 0.0243\n",
      "Epoch 79/100\n",
      "234/237 [============================>.] - ETA: 0s - loss: 3.6499 - accuracy: 0.0337\n",
      "Epoch 79: val_loss did not improve from 3.66116\n",
      "237/237 [==============================] - 1s 4ms/step - loss: 3.6496 - accuracy: 0.0335 - val_loss: 3.6619 - val_accuracy: 0.0243\n",
      "Epoch 80/100\n",
      "229/237 [===========================>..] - ETA: 0s - loss: 3.6523 - accuracy: 0.0330\n",
      "Epoch 80: val_loss did not improve from 3.66116\n",
      "237/237 [==============================] - 1s 4ms/step - loss: 3.6506 - accuracy: 0.0335 - val_loss: 3.6618 - val_accuracy: 0.0243\n",
      "Epoch 81/100\n",
      "230/237 [============================>.] - ETA: 0s - loss: 3.6492 - accuracy: 0.0337\n",
      "Epoch 81: val_loss did not improve from 3.66116\n",
      "237/237 [==============================] - 1s 5ms/step - loss: 3.6497 - accuracy: 0.0335 - val_loss: 3.6619 - val_accuracy: 0.0243\n",
      "Epoch 82/100\n",
      "237/237 [==============================] - ETA: 0s - loss: 3.6502 - accuracy: 0.0335\n",
      "Epoch 82: val_loss did not improve from 3.66116\n",
      "237/237 [==============================] - 1s 5ms/step - loss: 3.6502 - accuracy: 0.0335 - val_loss: 3.6618 - val_accuracy: 0.0243\n",
      "Epoch 83/100\n",
      "230/237 [============================>.] - ETA: 0s - loss: 3.6495 - accuracy: 0.0334\n",
      "Epoch 83: val_loss did not improve from 3.66116\n",
      "237/237 [==============================] - 1s 5ms/step - loss: 3.6495 - accuracy: 0.0335 - val_loss: 3.6619 - val_accuracy: 0.0243\n",
      "Epoch 84/100\n",
      "227/237 [===========================>..] - ETA: 0s - loss: 3.6508 - accuracy: 0.0339\n",
      "Epoch 84: val_loss did not improve from 3.66116\n",
      "237/237 [==============================] - 1s 4ms/step - loss: 3.6496 - accuracy: 0.0335 - val_loss: 3.6618 - val_accuracy: 0.0243\n",
      "Epoch 85/100\n",
      "228/237 [===========================>..] - ETA: 0s - loss: 3.6492 - accuracy: 0.0337\n",
      "Epoch 85: val_loss did not improve from 3.66116\n",
      "237/237 [==============================] - 1s 5ms/step - loss: 3.6496 - accuracy: 0.0335 - val_loss: 3.6619 - val_accuracy: 0.0243\n",
      "Epoch 86/100\n",
      "226/237 [===========================>..] - ETA: 0s - loss: 3.6504 - accuracy: 0.0337\n",
      "Epoch 86: val_loss did not improve from 3.66116\n",
      "237/237 [==============================] - 1s 5ms/step - loss: 3.6496 - accuracy: 0.0335 - val_loss: 3.6618 - val_accuracy: 0.0243\n",
      "Epoch 87/100\n",
      "226/237 [===========================>..] - ETA: 0s - loss: 3.6498 - accuracy: 0.0335\n",
      "Epoch 87: val_loss did not improve from 3.66116\n",
      "237/237 [==============================] - 1s 5ms/step - loss: 3.6496 - accuracy: 0.0335 - val_loss: 3.6619 - val_accuracy: 0.0243\n",
      "Epoch 88/100\n",
      "229/237 [===========================>..] - ETA: 0s - loss: 3.6484 - accuracy: 0.0329\n",
      "Epoch 88: val_loss did not improve from 3.66116\n",
      "237/237 [==============================] - 1s 5ms/step - loss: 3.6495 - accuracy: 0.0335 - val_loss: 3.6618 - val_accuracy: 0.0243\n",
      "Epoch 89/100\n",
      "225/237 [===========================>..] - ETA: 0s - loss: 3.6511 - accuracy: 0.0335\n",
      "Epoch 89: val_loss did not improve from 3.66116\n",
      "237/237 [==============================] - 1s 5ms/step - loss: 3.6508 - accuracy: 0.0335 - val_loss: 3.6619 - val_accuracy: 0.0243\n",
      "Epoch 90/100\n",
      "229/237 [===========================>..] - ETA: 0s - loss: 3.6509 - accuracy: 0.0334\n",
      "Epoch 90: val_loss did not improve from 3.66116\n",
      "237/237 [==============================] - 1s 5ms/step - loss: 3.6512 - accuracy: 0.0335 - val_loss: 3.6619 - val_accuracy: 0.0243\n",
      "Epoch 91/100\n",
      "231/237 [============================>.] - ETA: 0s - loss: 3.6485 - accuracy: 0.0330\n",
      "Epoch 91: val_loss did not improve from 3.66116\n",
      "237/237 [==============================] - 1s 5ms/step - loss: 3.6495 - accuracy: 0.0335 - val_loss: 3.6619 - val_accuracy: 0.0243\n",
      "Epoch 92/100\n",
      "234/237 [============================>.] - ETA: 0s - loss: 3.6527 - accuracy: 0.0338\n",
      "Epoch 92: val_loss did not improve from 3.66116\n",
      "237/237 [==============================] - 1s 5ms/step - loss: 3.6533 - accuracy: 0.0338 - val_loss: 3.6618 - val_accuracy: 0.0243\n",
      "Epoch 93/100\n",
      "229/237 [===========================>..] - ETA: 0s - loss: 3.6515 - accuracy: 0.0337\n",
      "Epoch 93: val_loss did not improve from 3.66116\n",
      "237/237 [==============================] - 1s 4ms/step - loss: 3.6509 - accuracy: 0.0335 - val_loss: 3.6619 - val_accuracy: 0.0243\n",
      "Epoch 94/100\n",
      "235/237 [============================>.] - ETA: 0s - loss: 3.6499 - accuracy: 0.0336\n",
      "Epoch 94: val_loss did not improve from 3.66116\n",
      "237/237 [==============================] - 1s 4ms/step - loss: 3.6500 - accuracy: 0.0337 - val_loss: 3.6619 - val_accuracy: 0.0243\n",
      "Epoch 95/100\n",
      "229/237 [===========================>..] - ETA: 0s - loss: 3.6513 - accuracy: 0.0338\n",
      "Epoch 95: val_loss did not improve from 3.66116\n",
      "237/237 [==============================] - 1s 4ms/step - loss: 3.6515 - accuracy: 0.0334 - val_loss: 3.6619 - val_accuracy: 0.0243\n",
      "Epoch 96/100\n",
      "235/237 [============================>.] - ETA: 0s - loss: 3.6502 - accuracy: 0.0335\n",
      "Epoch 96: val_loss did not improve from 3.66116\n",
      "237/237 [==============================] - 1s 4ms/step - loss: 3.6499 - accuracy: 0.0335 - val_loss: 3.6619 - val_accuracy: 0.0243\n",
      "Epoch 97/100\n",
      "224/237 [===========================>..] - ETA: 0s - loss: 3.6498 - accuracy: 0.0338\n",
      "Epoch 97: val_loss did not improve from 3.66116\n",
      "237/237 [==============================] - 1s 5ms/step - loss: 3.6496 - accuracy: 0.0335 - val_loss: 3.6619 - val_accuracy: 0.0243\n",
      "Epoch 98/100\n",
      "231/237 [============================>.] - ETA: 0s - loss: 3.6507 - accuracy: 0.0334\n",
      "Epoch 98: val_loss did not improve from 3.66116\n",
      "237/237 [==============================] - 1s 4ms/step - loss: 3.6496 - accuracy: 0.0335 - val_loss: 3.6618 - val_accuracy: 0.0243\n",
      "Epoch 99/100\n",
      "230/237 [============================>.] - ETA: 0s - loss: 3.6498 - accuracy: 0.0334\n",
      "Epoch 99: val_loss did not improve from 3.66116\n",
      "237/237 [==============================] - 1s 4ms/step - loss: 3.6499 - accuracy: 0.0335 - val_loss: 3.6619 - val_accuracy: 0.0243\n",
      "Epoch 100/100\n",
      "234/237 [============================>.] - ETA: 0s - loss: 3.6491 - accuracy: 0.0334\n",
      "Epoch 100: val_loss did not improve from 3.66116\n",
      "237/237 [==============================] - 1s 5ms/step - loss: 3.6496 - accuracy: 0.0335 - val_loss: 3.6619 - val_accuracy: 0.0243\n",
      "Training completed in time:  0:02:22.540433\n"
     ]
    }
   ],
   "source": [
    "from tensorflow.keras.callbacks import ModelCheckpoint\n",
    "from datetime import datetime \n",
    "\n",
    "num_epochs = 100\n",
    "num_batch_size = 32\n",
    "\n",
    "checkpointer = ModelCheckpoint(filepath='/content/freesound-audio-tagging/audio_train', \n",
    "                               verbose=1, save_best_only=True)\n",
    "\n",
    "start = datetime.now()\n",
    "\n",
    "model.fit(X_train, y_train, batch_size=num_batch_size, epochs=num_epochs, validation_data=(X_test, y_test), callbacks=[checkpointer], verbose=1)\n",
    "\n",
    "duration = datetime.now() - start\n",
    "print(\"Training completed in time: \", duration)"
   ]
  },
  {
   "cell_type": "code",
   "execution_count": 81,
   "metadata": {
    "colab": {
     "base_uri": "https://localhost:8080/"
    },
    "executionInfo": {
     "elapsed": 8,
     "status": "ok",
     "timestamp": 1669126691158,
     "user": {
      "displayName": "Mohit Kumar",
      "userId": "03888987891614882912"
     },
     "user_tz": -330
    },
    "id": "GbRd-23oU7fB",
    "outputId": "96720aa7-6dfd-4a02-8dfc-13f03ea7f62d"
   },
   "outputs": [
    {
     "name": "stdout",
     "output_type": "stream",
     "text": [
      "[jovian] Detected Colab notebook...\u001b[0m\n",
      "[jovian] jovian.commit() is no longer required on Google Colab. If you ran this notebook from Jovian, \n",
      "then just save this file in Colab using Ctrl+S/Cmd+S and it will be updated on Jovian. \n",
      "Also, you can also delete this cell, it's no longer necessary.\u001b[0m\n"
     ]
    }
   ],
   "source": [
    "jovian.commit()"
   ]
  },
  {
   "cell_type": "code",
   "execution_count": 42,
   "metadata": {
    "colab": {
     "base_uri": "https://localhost:8080/"
    },
    "executionInfo": {
     "elapsed": 15,
     "status": "ok",
     "timestamp": 1669122825610,
     "user": {
      "displayName": "Mohit Kumar",
      "userId": "03888987891614882912"
     },
     "user_tz": -330
    },
    "id": "YU8wVoK_RjE7",
    "outputId": "c7b5553d-c9ed-4ef0-88d0-dcb5f4c6f620"
   },
   "outputs": [
    {
     "name": "stdout",
     "output_type": "stream",
     "text": [
      "0.02427440695464611\n"
     ]
    }
   ],
   "source": [
    "#test_accuracy = model.evaluate(X_test, y_test, verbose = 0)\n",
    "#print(test_accuracy[1])"
   ]
  }
 ],
 "metadata": {
  "colab": {
   "collapsed_sections": [
    "l5Z7s_c7vTfw",
    "21KE-zOdLVOX",
    "je9wwqO0MbSQ"
   ],
   "provenance": []
  },
  "language_info": {
   "codemirror_mode": {
    "name": "ipython",
    "version": 3
   },
   "file_extension": ".py",
   "mimetype": "text/x-python",
   "name": "python",
   "nbconvert_exporter": "python",
   "pygments_lexer": "ipython3",
   "version": "3.7.6"
  }
 },
 "nbformat": 4,
 "nbformat_minor": 0
}